{
 "cells": [
  {
   "cell_type": "code",
   "execution_count": 1,
   "metadata": {},
   "outputs": [],
   "source": [
    "#Imports\n",
    "import tensorflow as tf\n",
    "import pandas as pd\n",
    "import numpy as np\n",
    "from matplotlib import pyplot as plt\n",
    "# Setting the random seed"
   ]
  },
  {
   "cell_type": "markdown",
   "metadata": {},
   "source": [
    "### 1. (40pts) Define functions"
   ]
  },
  {
   "cell_type": "code",
   "execution_count": 2,
   "metadata": {},
   "outputs": [],
   "source": [
    "\n",
    "# One hot encode the labels\n",
    "def one_hot_encode(y):\n",
    "    enc = pd.get_dummies(y)\n",
    "    return np.matrix(enc)\n",
    "\n",
    "\n",
    "# Get the cost of iteration\n",
    "def get_cost(y, y_pred):\n",
    "    cost = tf.reduce_mean(tf.nn.softmax_cross_entropy_with_logits(logits=y_pred, labels=y))\n",
    "    return cost\n",
    "    \n",
    "\n",
    "#Get the accuracy of the results\n",
    "def get_accuracy(y, y_pred):\n",
    "    y = tf.nn.softmax(y)\n",
    "    y_pred = tf.nn.softmax(y_pred)\n",
    "    labels_equal = tf.equal(y, y_pred)\n",
    "    accuracy = tf.reduce_mean(tf.cast(labels_equal, 'float'))\n",
    "    return accuracy\n",
    "\n",
    "# Initialize the hidden layer and output layer dimensions and apply activations on them\n",
    "def initialize_deep_net(X, inputLayerSize, hiddenLayerSizes, outputLayerSize, keep_prob):\n",
    "    \n",
    "    # Xavier Weight Initialization\n",
    "    hidden_layer_1 = {'W': tf.get_variable('W1', [inputLayerSize, hiddenLayerSizes[0]], initializer=tf.contrib.layers.xavier_initializer(seed = 1)),\n",
    "                       'b': tf.get_variable('b1', [hiddenLayerSizes[0]],dtype=tf.float32, initializer=tf.zeros_initializer())}\n",
    "    \n",
    "    hidden_layer_2 = {'W':tf.get_variable('W2', [hiddenLayerSizes[0], hiddenLayerSizes[1]], initializer=tf.contrib.layers.xavier_initializer(seed = 1)),\n",
    "                       'b':tf.get_variable('b2', [hiddenLayerSizes[1]],dtype=tf.float32, initializer=tf.zeros_initializer())}\n",
    "    \n",
    "    output_layer = {'W':tf.get_variable('W3', [hiddenLayerSizes[1], outputLayerSize], initializer=tf.contrib.layers.xavier_initializer(seed = 1)),\n",
    "                       'b':tf.get_variable('b3', [outputLayerSize],dtype=tf.float32, initializer=tf.zeros_initializer())}\n",
    "    \n",
    "    return hidden_layer_1, hidden_layer_2, output_layer\n",
    "\n",
    "def forward_propagation(X, inputLayerSize, hiddenLayerSizes, outputLayerSize, keep_prob):\n",
    "    # Initialize the parameters\n",
    "    hidden_layer_1, hidden_layer_2, output_layer = initialize_deep_net(X, inputLayerSize, \n",
    "                                                                hiddenLayerSizes, outputLayerSize, keep_prob)\n",
    "    \n",
    "    layer1 = tf.add(tf.matmul(tf.cast(X, tf.float32),hidden_layer_1['W']), hidden_layer_1['b'])\n",
    "    layer1 = tf.nn.relu(layer1) # Relu on 1st Hidden Layer\n",
    "    layer1_dropout = tf.nn.dropout(layer1, keep_prob, seed=2)\n",
    "    \n",
    "    \n",
    "    layer2 = tf.add(tf.matmul(layer1_dropout,hidden_layer_2['W']), hidden_layer_2['b'])\n",
    "    layer2 = tf.nn.relu(layer2) # Relu on 2nd Hidden Layer\n",
    "    layer2_dropout = tf.nn.dropout(layer2, keep_prob, seed=2)\n",
    "\n",
    "    output = tf.matmul(layer2_dropout,output_layer['W']) + output_layer['b']\n",
    "    output = tf.nn.sigmoid(output) # Sigmoid on Output Layer\n",
    "    return output\n",
    "\n",
    "def plotCostHistory(cost_history):\n",
    "     plt.plot(cost_history)\n",
    "     plt.ylabel('Cost');\n",
    "     plt.xlabel('Iterations');\n",
    "     plt.title('Cost Progression with Iterations')\n",
    "     plt.show()\n",
    "        \n",
    "def plot_accuracies_with_keep_prob(cache, label):\n",
    "    accuracy = cache['accuracy']\n",
    "    keep_prob = cache['keep_prob']\n",
    "    plt.ylabel('Accuracy')\n",
    "    plt.xlabel('Keep Probability')\n",
    "    plt.title('Train and Test Accuracy Progression with increasing Keep Probablity')\n",
    "    ax = plt.gca()\n",
    "    ax.plot(keep_prob, accuracy, label=label)\n",
    "    plt.legend()\n",
    "    "
   ]
  },
  {
   "cell_type": "markdown",
   "metadata": {},
   "source": [
    "### 2. Split data"
   ]
  },
  {
   "cell_type": "code",
   "execution_count": 3,
   "metadata": {},
   "outputs": [],
   "source": [
    "# Reading the training data\n",
    "data_train = pd.read_csv('ex4_train.csv', sep=\",\", encoding='utf-8', header='infer')\n",
    "df_train = data_train.drop('Unnamed: 0',axis=1)\n",
    "\n",
    "y_train = df_train['y']\n",
    "X_train = df_train.drop(['y'], axis=1)\n",
    "\n",
    "X_train_mat = np.matrix(X_train)"
   ]
  },
  {
   "cell_type": "code",
   "execution_count": 4,
   "metadata": {},
   "outputs": [
    {
     "name": "stdout",
     "output_type": "stream",
     "text": [
      "25    7\n",
      "Name: y, dtype: int64\n"
     ]
    },
    {
     "data": {
      "image/png": "[encoded data removed]",
      "text/plain": [
       "<matplotlib.figure.Figure at 0x10d0da4e0>"
      ]
     },
     "metadata": {},
     "output_type": "display_data"
    }
   ],
   "source": [
    "# Reading the test data\n",
    "data_test = pd.read_csv('ex4_test.csv', sep=\",\", encoding='utf-8', header='infer')\n",
    "df_test = data_test.drop('Unnamed: 0',axis=1)\n",
    "m = df_test.shape[0]\n",
    "\n",
    "y_test = df_test['y']\n",
    "X_test = df_test.drop(['y'], axis=1)\n",
    "X_test_mat = np.matrix(X_test)\n",
    "\n",
    "# Plot the selected pixel\n",
    "num = 25\n",
    "pixels = np.array(X_test[num:num+1], dtype='uint8')\n",
    "print(y_test[num:num+1])\n",
    "pixels = pixels.reshape((20, 20)).T\n",
    "plt.imshow(pixels)\n",
    "plt.show()"
   ]
  },
  {
   "cell_type": "markdown",
   "metadata": {},
   "source": [
    "### 3. Define number of neurons in each layer"
   ]
  },
  {
   "cell_type": "code",
   "execution_count": 5,
   "metadata": {
    "scrolled": false
   },
   "outputs": [],
   "source": [
    "inputLayerSize = X_train.shape[1]\n",
    "hiddenLayers = 2\n",
    "hiddenLayerSizes = [268,100]\n",
    "outputLayerSize = 10\n",
    "\n",
    "# One hot encode the labels\n",
    "y_train_mat = one_hot_encode(y_train)\n",
    "y_test_mat = one_hot_encode(y_test)"
   ]
  },
  {
   "cell_type": "markdown",
   "metadata": {},
   "source": [
    "### 4. (30pts) Neural Network model with 2 hidden layers"
   ]
  },
  {
   "cell_type": "code",
   "execution_count": 6,
   "metadata": {
    "scrolled": false
   },
   "outputs": [],
   "source": [
    "def train_deep_neural_net(epochs, X_train, y_train, X_test, y_test, learning_rate, keep_prob):\n",
    "    tf.reset_default_graph()\n",
    "    x = tf.placeholder(tf.float32, [None, X_train.shape[1]])\n",
    "    y = tf.placeholder(tf.float32)\n",
    "    y_pred = forward_propagation(x, inputLayerSize, hiddenLayerSizes, outputLayerSize, keep_prob)\n",
    "    cost = get_cost(y, y_pred)\n",
    "    # The AdamOptimizer is used in place of gradient descent to optimize the cost\n",
    "    optimizer = tf.train.AdamOptimizer(learning_rate=learning_rate).minimize(cost) \n",
    "    init = tf.global_variables_initializer()\n",
    "    correctness = tf.equal(tf.argmax(y_pred,1), tf.argmax(y,1))\n",
    "    accuracy = tf.reduce_mean(tf.cast(correctness, 'float'))\n",
    "    cost_history = []\n",
    "    max_test_acc = 0\n",
    "    max_iter = 0\n",
    "    with tf.Session() as sess:\n",
    "        sess.run(init)\n",
    "        for epoch in range(epochs+1):\n",
    "            temp, epoch_cost = sess.run([optimizer, cost], feed_dict={x:X_train, y:y_train})\n",
    "            cost_history.append(epoch_cost)\n",
    "            if(epoch % 10 == 0):\n",
    "                test_acc = accuracy.eval({x:X_test, y:y_test})\n",
    "                if(test_acc > max_test_acc):\n",
    "                    max_test_acc = test_acc\n",
    "                    max_iter = epoch\n",
    "                #print('Accuracy Test: ', test_acc)\n",
    "                #print('Cost is ' + str(epoch_cost) + ' for iteration: ' + str(epoch))\n",
    "        #plotCostHistory(cost_history)\n",
    "        train_acc = accuracy.eval({x:X_train, y:y_train})\n",
    "        print('Accuracy Train: ', train_acc)\n",
    "        print('Max Accuracy Test: ' + str(max_test_acc) + ' on iteration ' + str(max_iter))\n",
    "        return train_acc, test_acc"
   ]
  },
  {
   "cell_type": "code",
   "execution_count": 7,
   "metadata": {},
   "outputs": [],
   "source": [
    "def optimize(iterations, X_train_mat, y_train_mat, X_test_mat, y_test_mat, learning_rate):\n",
    "    alphas = [0.01]\n",
    "    trainCache = pd.DataFrame(columns=['accuracy','keep_prob'])\n",
    "    testCache = pd.DataFrame(columns=['accuracy','keep_prob'])\n",
    "    i=0\n",
    "    for prob in np.arange(0.7, 1.0, 0.1):\n",
    "        for alpha in alphas:\n",
    "            print('*************************************************************')\n",
    "            print(prob)\n",
    "            train_acc, test_acc = train_deep_neural_net(iterations, X_train_mat, y_train_mat, X_test_mat, y_test_mat, alpha, prob)\n",
    "            trainCache.loc[i] = pd.Series({'accuracy': train_acc, 'keep_prob': prob})\n",
    "            testCache.loc[i] = pd.Series({'accuracy': test_acc, 'keep_prob': prob})\n",
    "            i=i+1\n",
    "    max_test_accuracy_index = testCache['accuracy'].idxmax()\n",
    "    max_test_accuracy = testCache.iloc[[max_test_accuracy_index]]['accuracy'][max_test_accuracy_index]\n",
    "    optimal_keep_prob = testCache.iloc[[max_test_accuracy_index]]['keep_prob'][max_test_accuracy_index]\n",
    "    print('optimal keep probablity is ' + str(optimal_keep_prob))\n",
    "    max_train_accuracy = trainCache.iloc[[max_test_accuracy_index]]['accuracy'][max_test_accuracy_index]\n",
    "    print(max_train_accuracy)\n",
    "    print('*************************************************************')\n",
    "    print('Max Train Accuracy - ' + str(max_train_accuracy) + ' Max Test Accuracy - ' + str(max_test_accuracy) + ' Optimal Keep Prob - ' + str(prob)\n",
    "          + ' alpha ' + str(alpha))\n",
    "    plot_accuracies_with_keep_prob(trainCache, 'Train')\n",
    "    plot_accuracies_with_keep_prob(testCache, 'Test')\n",
    "    plt.show()"
   ]
  },
  {
   "cell_type": "code",
   "execution_count": 8,
   "metadata": {
    "scrolled": false
   },
   "outputs": [
    {
     "name": "stdout",
     "output_type": "stream",
     "text": [
      "*************************************************************\n",
      "0.7\n",
      "Accuracy Train:  0.832571\n",
      "Max Accuracy Test: 0.816 on iteration 10\n",
      "*************************************************************\n",
      "0.8\n",
      "Accuracy Train:  0.842286\n",
      "Max Accuracy Test: 0.825333 on iteration 10\n",
      "*************************************************************\n",
      "0.9\n",
      "Accuracy Train:  0.858571\n",
      "Max Accuracy Test: 0.832667 on iteration 10\n",
      "*************************************************************\n",
      "1.0\n",
      "Accuracy Train:  0.89\n",
      "Max Accuracy Test: 0.875333 on iteration 10\n",
      "optimal keep probablity is 1.0\n",
      "0.889999985695\n",
      "Max Train Accuracy - 0.889999985695 Max Test Accuracy - 0.875333309174 Optimal Keep Prob - 1.0 alpha 0.01\n"
     ]
    },
    {
     "data": {
      "image/png": "[encoded data removed]",
      "text/plain": [
       "<matplotlib.figure.Figure at 0x110e8dc88>"
      ]
     },
     "metadata": {},
     "output_type": "display_data"
    }
   ],
   "source": [
    "optimize(10, X_train_mat, y_train_mat, X_test_mat, y_test_mat, 0.01)"
   ]
  },
  {
   "cell_type": "code",
   "execution_count": null,
   "metadata": {},
   "outputs": [],
   "source": [
    "\n",
    "    "
   ]
  }
 ],
 "metadata": {
  "kernelspec": {
   "display_name": "Python 3",
   "language": "python",
   "name": "python3"
  },
  "language_info": {
   "codemirror_mode": {
    "name": "ipython",
    "version": 3
   },
   "file_extension": ".py",
   "mimetype": "text/x-python",
   "name": "python",
   "nbconvert_exporter": "python",
   "pygments_lexer": "ipython3",
   "version": "3.6.4"
  }
 },
 "nbformat": 4,
 "nbformat_minor": 2
}
