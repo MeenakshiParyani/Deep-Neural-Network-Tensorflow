{
 "cells": [
  {
   "cell_type": "code",
   "execution_count": 1,
   "metadata": {},
   "outputs": [],
   "source": [
    "#Imports\n",
    "import tensorflow as tf\n",
    "import pandas as pd\n",
    "import numpy as np\n",
    "from matplotlib import pyplot as plt\n",
    "# Setting the random seed\n",
    "# tf.set_random_seed(1)"
   ]
  },
  {
   "cell_type": "markdown",
   "metadata": {},
   "source": [
    "### 1. (40pts) Define functions"
   ]
  },
  {
   "cell_type": "code",
   "execution_count": 2,
   "metadata": {},
   "outputs": [],
   "source": [
    "\n",
    "# One hot encode the labels\n",
    "def one_hot_encode(y):\n",
    "    enc = pd.get_dummies(y)\n",
    "    return np.matrix(enc)\n",
    "\n",
    "\n",
    "# Get the cost of iteration\n",
    "def get_cost(y, y_pred):\n",
    "    cost = tf.reduce_mean(tf.nn.softmax_cross_entropy_with_logits(logits=y_pred, labels=y))\n",
    "    return cost\n",
    "    \n",
    "\n",
    "#Get the accuracy of the results\n",
    "def get_accuracy(y, y_pred):\n",
    "    y = tf.nn.softmax(y)\n",
    "    y_pred = tf.nn.softmax(y_pred)\n",
    "    labels_equal = tf.equal(y, y_pred)\n",
    "    accuracy = tf.reduce_mean(tf.cast(labels_equal, 'float'))\n",
    "    return accuracy\n",
    "\n",
    "# Initialize the hidden layer and output layer dimensions and apply activations on them\n",
    "def predict_deep_net(X, inputLayerSize, hiddenLayerSizes, outputLayerSize):\n",
    "    \n",
    "    # Random Weight Initialization\n",
    "    hidden_layer_1 = {'W':tf.Variable(tf.random_normal([inputLayerSize, hiddenLayerSizes[0]])),\n",
    "                       'b':tf.Variable(tf.random_normal([hiddenLayerSizes[0]]),dtype=tf.float32)}\n",
    "    \n",
    "    hidden_layer_2 = {'W':tf.Variable(tf.random_normal([hiddenLayerSizes[0], hiddenLayerSizes[1]])),\n",
    "                      'b':tf.Variable(tf.random_normal([hiddenLayerSizes[1]]),dtype=tf.float32)}\n",
    "    \n",
    "    output_layer = {'W':tf.Variable(tf.random_normal([hiddenLayerSizes[1], outputLayerSize])),\n",
    "                    'b':tf.Variable(tf.random_normal([outputLayerSize]),dtype=tf.float32)}\n",
    "    \n",
    "    layer1 = tf.add(tf.matmul(tf.cast(X, tf.float32),hidden_layer_1['W']), hidden_layer_1['b'])\n",
    "    layer1 = tf.nn.relu(layer1) # Relu on 1st Hidden Layer\n",
    "    \n",
    "    layer2 = tf.add(tf.matmul(layer1,hidden_layer_2['W']), hidden_layer_2['b'])\n",
    "    layer2 = tf.nn.relu(layer2) # Relu on 2nd Hidden Layer\n",
    "\n",
    "    output = tf.matmul(layer2,output_layer['W']) + output_layer['b']\n",
    "    output = tf.nn.sigmoid(output) # Sigmoid on Output Layer\n",
    "    return output"
   ]
  },
  {
   "cell_type": "markdown",
   "metadata": {},
   "source": [
    "### 2. Split data"
   ]
  },
  {
   "cell_type": "code",
   "execution_count": 3,
   "metadata": {},
   "outputs": [],
   "source": [
    "# Reading the training data\n",
    "data_train = pd.read_csv('ex4_train.csv', sep=\",\", encoding='utf-8', header='infer')\n",
    "df_train = data_train.drop('Unnamed: 0',axis=1)\n",
    "\n",
    "y_train = df_train['y']\n",
    "X_train = df_train.drop(['y'], axis=1)\n",
    "\n",
    "X_train_mat = np.matrix(X_train)"
   ]
  },
  {
   "cell_type": "code",
   "execution_count": 4,
   "metadata": {},
   "outputs": [
    {
     "name": "stdout",
     "output_type": "stream",
     "text": [
      "25    7\n",
      "Name: y, dtype: int64\n"
     ]
    },
    {
     "data": {
      "image/png": "[encoded data removed]",
      "text/plain": [
       "<matplotlib.figure.Figure at 0x10e2632b0>"
      ]
     },
     "metadata": {},
     "output_type": "display_data"
    }
   ],
   "source": [
    "# Reading the test data\n",
    "data_test = pd.read_csv('ex4_test.csv', sep=\",\", encoding='utf-8', header='infer')\n",
    "df_test = data_test.drop('Unnamed: 0',axis=1)\n",
    "m = df_test.shape[0]\n",
    "\n",
    "y_test = df_test['y']\n",
    "X_test = df_test.drop(['y'], axis=1)\n",
    "X_test_mat = np.matrix(X_test)\n",
    "\n",
    "# Plot the selected pixel\n",
    "num = 25\n",
    "pixels = np.array(X_test[num:num+1], dtype='uint8')\n",
    "print(y_test[num:num+1])\n",
    "pixels = pixels.reshape((20, 20)).T\n",
    "plt.imshow(pixels)\n",
    "plt.show()"
   ]
  },
  {
   "cell_type": "markdown",
   "metadata": {},
   "source": [
    "### 3. Define number of neurons in each layer"
   ]
  },
  {
   "cell_type": "code",
   "execution_count": 5,
   "metadata": {
    "scrolled": false
   },
   "outputs": [],
   "source": [
    "inputLayerSize = X_train.shape[1]\n",
    "hiddenLayers = 2\n",
    "hiddenLayerSizes = [100,40]\n",
    "outputLayerSize = 10\n",
    "\n",
    "# One hot encode the labels\n",
    "y_train_mat = one_hot_encode(y_train)\n",
    "y_test_mat = one_hot_encode(y_test)"
   ]
  },
  {
   "cell_type": "code",
   "execution_count": 6,
   "metadata": {},
   "outputs": [
    {
     "name": "stdout",
     "output_type": "stream",
     "text": [
      "0    4\n",
      "1    8\n",
      "2    8\n",
      "3    0\n",
      "4    9\n",
      "Name: y, dtype: int64\n",
      "0    5\n",
      "1    7\n",
      "2    5\n",
      "3    2\n",
      "4    9\n",
      "Name: y, dtype: int64\n"
     ]
    }
   ],
   "source": [
    "print(y_train.head())\n",
    "print(y_test.head())"
   ]
  },
  {
   "cell_type": "markdown",
   "metadata": {},
   "source": [
    "### 4. (30pts) Neural Network model with 2 hidden layers"
   ]
  },
  {
   "cell_type": "code",
   "execution_count": 9,
   "metadata": {
    "scrolled": false
   },
   "outputs": [
    {
     "name": "stdout",
     "output_type": "stream",
     "text": [
      "Cost is 2.34882 for iteration: 0\n",
      "Cost is 1.57419 for iteration: 100\n",
      "Cost is 1.55188 for iteration: 200\n",
      "Cost is 1.54839 for iteration: 300\n",
      "Cost is 1.54673 for iteration: 400\n",
      "Cost is 1.54665 for iteration: 500\n",
      "Cost is 1.54665 for iteration: 600\n",
      "Cost is 1.54625 for iteration: 700\n",
      "Cost is 1.50625 for iteration: 800\n",
      "Cost is 1.49736 for iteration: 900\n",
      "Accuracy Train:  0.953714\n",
      "Accuracy Test:  0.904667\n"
     ]
    }
   ],
   "source": [
    "\n",
    "\n",
    "def train_deep_neural_net(epochs, X_train, y_train, X_test, y_test):\n",
    "    x = tf.placeholder(tf.float32, [None, X_train.shape[1]])\n",
    "    y = tf.placeholder(tf.float32)\n",
    "    y_pred = predict_deep_net(x, inputLayerSize, hiddenLayerSizes, outputLayerSize)\n",
    "    cost = get_cost(y, y_pred)\n",
    "    # The AdamOptimizer is used in place of gradient descent to optimize the cost\n",
    "    optimizer = tf.train.AdamOptimizer(learning_rate=0.01).minimize(cost) \n",
    "    init = tf.global_variables_initializer()\n",
    "    correctness = tf.equal(tf.argmax(y_pred,1), tf.argmax(y,1))\n",
    "    accuracy = tf.reduce_mean(tf.cast(correctness, 'float'))\n",
    "    with tf.Session() as sess:\n",
    "        sess.run(init)\n",
    "        for epoch in range(epochs):\n",
    "            temp, epoch_cost = sess.run([optimizer, cost], feed_dict={x:X_train, y:y_train})\n",
    "            if(epoch % 100 == 0):\n",
    "                print('Cost is ' + str(epoch_cost) + ' for iteration: ' + str(epoch))\n",
    "        print('Accuracy Train: ', accuracy.eval({x:X_train, y:y_train}))\n",
    "        print('Accuracy Test: ', accuracy.eval({x:X_test, y:y_test}))\n",
    "        \n",
    "\n",
    "train_deep_neural_net(1000, X_train_mat, y_train_mat, X_test_mat, y_test_mat)"
   ]
  }
 ],
 "metadata": {
  "kernelspec": {
   "display_name": "Python 3",
   "language": "python",
   "name": "python3"
  },
  "language_info": {
   "codemirror_mode": {
    "name": "ipython",
    "version": 3
   },
   "file_extension": ".py",
   "mimetype": "text/x-python",
   "name": "python",
   "nbconvert_exporter": "python",
   "pygments_lexer": "ipython3",
   "version": "3.6.4"
  }
 },
 "nbformat": 4,
 "nbformat_minor": 2
}
